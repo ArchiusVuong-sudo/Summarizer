{
 "cells": [
  {
   "cell_type": "code",
   "execution_count": null,
   "metadata": {},
   "outputs": [],
   "source": [
    "import os\n",
    "import asyncio\n",
    "from dotenv import load_dotenv\n",
    "from langchain_openai import AzureChatOpenAI\n",
    "from langchain_core.documents import Document\n",
    "from core.metadata import Metadata\n",
    "from core.document_loader import DocumentLoader\n",
    "from core.document_summarizer import DocumentSummarizer\n",
    "from langchain_core.prompts import ChatPromptTemplate\n",
    "\n",
    "async def get_summary(llm: AzureChatOpenAI, docs: list[Document]) -> dict[str, any]:\n",
    "    summarizer: DocumentSummarizer = DocumentSummarizer(llm, docs)\n",
    "    \n",
    "    app = summarizer.compile_app()\n",
    "\n",
    "    step: dict = {}\n",
    "    async for step in app.astream(\n",
    "        {\"contents\": [doc.page_content for doc in docs]},\n",
    "        {\"recursion_limit\": 10},\n",
    "    ):\n",
    "        pass\n",
    "\n",
    "    return step\n",
    "\n",
    "load_dotenv()\n",
    "\n",
    "llm: AzureChatOpenAI = AzureChatOpenAI(\n",
    "    model = \"gpt-4o-mini\",\n",
    "    api_version = \"2024-08-01-preview\"\n",
    ")"
   ]
  },
  {
   "cell_type": "code",
   "execution_count": null,
   "metadata": {},
   "outputs": [],
   "source": [
    "def extract_document(llm: AzureChatOpenAI, file_path: str):\n",
    "    document_loader: DocumentLoader = DocumentLoader()\n",
    "    docs: list[Document] = document_loader.load(file_path)\n",
    "\n",
    "    prompt = ChatPromptTemplate.from_messages(\n",
    "        [\n",
    "            (\n",
    "                \"system\",\n",
    "                \"You are an expert extraction algorithm. \"\n",
    "                \"Only extract relevant information from the text. \"\n",
    "                \"If you do not know the value of an attribute asked to extract, \"\n",
    "                \"return null for the attribute's value.\",\n",
    "            ),\n",
    "            (\"human\", \"{text}\"),\n",
    "        ]\n",
    "    )\n",
    "\n",
    "    runnable = prompt | llm.with_structured_output(schema = Metadata)\n",
    "\n",
    "    summary = asyncio.run(get_summary(llm, docs))\n",
    "    metadata = runnable.invoke({\"text\": summary})\n",
    "\n",
    "    return  metadata.subject, metadata.keywords, summary['generate_final_summary']['final_summary']"
   ]
  },
  {
   "cell_type": "code",
   "execution_count": null,
   "metadata": {},
   "outputs": [],
   "source": [
    "import pandas as pd\n",
    "\n",
    "df = pd.DataFrame(columns=['file_name', 'subject', 'keywords', 'summary'])\n",
    "\n",
    "for file_name in os.listdir(os.environ['DOCUMENT_PATH']):\n",
    "    file_path = os.path.join(os.environ['DOCUMENT_PATH'], file_name)\n",
    "    if os.path.isfile(file_path):\n",
    "        subject, keywords, summary = extract_document(llm, file_path)\n",
    "\n",
    "        df = pd.concat([df, pd.DataFrame([{\n",
    "            'file_name': file_name, \n",
    "            'subject': subject,\n",
    "            'keywords': keywords,\n",
    "            'summary': summary\n",
    "        }])], ignore_index=True)\n",
    "\n",
    "df.to_excel(\"output.xlsx\")  "
   ]
  },
  {
   "cell_type": "code",
   "execution_count": 1,
   "metadata": {},
   "outputs": [
    {
     "data": {
      "text/html": [
       "<div>\n",
       "<style scoped>\n",
       "    .dataframe tbody tr th:only-of-type {\n",
       "        vertical-align: middle;\n",
       "    }\n",
       "\n",
       "    .dataframe tbody tr th {\n",
       "        vertical-align: top;\n",
       "    }\n",
       "\n",
       "    .dataframe thead th {\n",
       "        text-align: right;\n",
       "    }\n",
       "</style>\n",
       "<table border=\"1\" class=\"dataframe\">\n",
       "  <thead>\n",
       "    <tr style=\"text-align: right;\">\n",
       "      <th></th>\n",
       "      <th>Unnamed: 0</th>\n",
       "      <th>file_name</th>\n",
       "      <th>title</th>\n",
       "      <th>keywords</th>\n",
       "      <th>summary</th>\n",
       "    </tr>\n",
       "  </thead>\n",
       "  <tbody>\n",
       "    <tr>\n",
       "      <th>0</th>\n",
       "      <td>0</td>\n",
       "      <td>Get_Started_With_Smallpdf-output.pdf</td>\n",
       "      <td>Themes in Document Management and Collaboratio...</td>\n",
       "      <td>Document Management, User Experience, Accessib...</td>\n",
       "      <td>The main themes distilled from the provided do...</td>\n",
       "    </tr>\n",
       "  </tbody>\n",
       "</table>\n",
       "</div>"
      ],
      "text/plain": [
       "   Unnamed: 0                             file_name  \\\n",
       "0           0  Get_Started_With_Smallpdf-output.pdf   \n",
       "\n",
       "                                               title  \\\n",
       "0  Themes in Document Management and Collaboratio...   \n",
       "\n",
       "                                            keywords  \\\n",
       "0  Document Management, User Experience, Accessib...   \n",
       "\n",
       "                                             summary  \n",
       "0  The main themes distilled from the provided do...  "
      ]
     },
     "execution_count": 1,
     "metadata": {},
     "output_type": "execute_result"
    }
   ],
   "source": [
    "import pandas as pd\n",
    "\n",
    "df = pd.read_excel('output_file.xlsx')\n",
    "df.head()"
   ]
  },
  {
   "cell_type": "code",
   "execution_count": 6,
   "metadata": {},
   "outputs": [
    {
     "name": "stdout",
     "output_type": "stream",
     "text": [
      "Document Management, User Experience, Accessibility, Collaboration, Communication, File Handling, Efficiency, Productivity, Security, Privacy, Integration, Technology, Visual Design, Aesthetics\n"
     ]
    }
   ],
   "source": [
    "print(df['keywords'][0])"
   ]
  }
 ],
 "metadata": {
  "kernelspec": {
   "display_name": ".venv",
   "language": "python",
   "name": "python3"
  },
  "language_info": {
   "codemirror_mode": {
    "name": "ipython",
    "version": 3
   },
   "file_extension": ".py",
   "mimetype": "text/x-python",
   "name": "python",
   "nbconvert_exporter": "python",
   "pygments_lexer": "ipython3",
   "version": "3.13.0"
  }
 },
 "nbformat": 4,
 "nbformat_minor": 2
}
